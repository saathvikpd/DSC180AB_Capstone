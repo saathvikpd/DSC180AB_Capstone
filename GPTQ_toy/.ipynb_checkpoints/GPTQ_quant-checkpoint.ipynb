{
 "cells": [
  {
   "cell_type": "code",
   "execution_count": 1,
   "id": "181938a6-bc3d-4426-9568-36c7a651ece1",
   "metadata": {},
   "outputs": [],
   "source": [
    "num_features = 2"
   ]
  },
  {
   "cell_type": "code",
   "execution_count": 2,
   "id": "446b6a1e-5ebb-4f1c-a978-bd96929dc53f",
   "metadata": {},
   "outputs": [],
   "source": [
    "import torch\n",
    "import torch.nn as nn\n",
    "import torch.optim as optim\n",
    "from torch.utils.data import DataLoader, TensorDataset\n",
    "from gptq import GPTQ\n",
    "\n",
    "# Define a small neural network\n",
    "class SmallNet(nn.Module):\n",
    "    def __init__(self):\n",
    "        super(SmallNet, self).__init__()\n",
    "        self.fc1 = nn.Linear(num_features, 20)\n",
    "        self.fc2 = nn.Linear(20, 30)\n",
    "        self.fc3 = nn.Linear(30, 20)\n",
    "        self.fc4 = nn.Linear(20, 1)\n",
    "\n",
    "    def forward(self, x):\n",
    "        x = torch.relu(self.fc1(x))\n",
    "        x = torch.relu(self.fc2(x))\n",
    "        x = torch.relu(self.fc3(x))\n",
    "        x = self.fc4(x)\n",
    "        return x\n",
    "\n",
    "# Function to quantize all layers in the model with layer-specific inputs\n",
    "def quantize_model_with_propagation(model, input_data, bits=4):\n",
    "    activations = input_data  # Start with the original input\n",
    "    for name, layer in model.named_modules():\n",
    "        if isinstance(layer, nn.Linear):\n",
    "            print(f\"Quantizing layer: {name}\")\n",
    "            gptq = GPTQ(layer, bits=bits)\n",
    "            \n",
    "            # Add activations (layer-specific inputs) for Hessian calculation\n",
    "            gptq.add_batch(activations.detach().cpu().numpy())\n",
    "            gptq.quantize()  # Perform GPTQ-based quantization\n",
    "            \n",
    "            # Replace the original weights with quantized weights\n",
    "            layer.weight.data = torch.tensor(gptq.get_quantized_weights(), dtype=layer.weight.dtype)\n",
    "            if layer.bias is not None:\n",
    "                layer.bias.data = torch.tensor(gptq.get_quantized_bias(), dtype=layer.bias.dtype)\n",
    "            print(f\"Layer {name} quantized successfully.\\n\")\n",
    "            \n",
    "            # Forward pass through the quantized layer to get new activations\n",
    "            with torch.no_grad():\n",
    "                activations = torch.relu(layer(activations))  # Update activations\n"
   ]
  },
  {
   "cell_type": "code",
   "execution_count": 3,
   "id": "ede4f724-2307-4a77-8451-33cc7994cb3c",
   "metadata": {},
   "outputs": [],
   "source": [
    "import numpy as np\n",
    "\n",
    "# Generate training data\n",
    "def generate_data(samples=1000, features=num_features):\n",
    "    x = np.random.rand(samples, features).astype(np.float32)\n",
    "    y = np.mean(x, axis=1, keepdims=True).astype(np.float32)\n",
    "    return torch.tensor(x), torch.tensor(y)\n",
    "\n",
    "# Create datasets and dataloaders\n",
    "x_train, y_train = generate_data(samples=1000)\n",
    "x_test, y_test = generate_data(samples=200)\n",
    "\n",
    "train_dataset = TensorDataset(x_train, y_train)\n",
    "test_dataset = TensorDataset(x_test, y_test)\n",
    "\n",
    "train_loader = DataLoader(train_dataset, batch_size=32, shuffle=True)\n",
    "test_loader = DataLoader(test_dataset, batch_size=32, shuffle=False)\n"
   ]
  },
  {
   "cell_type": "code",
   "execution_count": 4,
   "id": "a5e2e6c9-d293-40ae-857d-9b614ba3ad60",
   "metadata": {},
   "outputs": [
    {
     "name": "stdout",
     "output_type": "stream",
     "text": [
      "Epoch [1/10], Loss: 0.0922\n",
      "Epoch [2/10], Loss: 0.0204\n",
      "Epoch [3/10], Loss: 0.0112\n",
      "Epoch [4/10], Loss: 0.0028\n",
      "Epoch [5/10], Loss: 0.0003\n",
      "Epoch [6/10], Loss: 0.0001\n",
      "Epoch [7/10], Loss: 0.0001\n",
      "Epoch [8/10], Loss: 0.0000\n",
      "Epoch [9/10], Loss: 0.0000\n",
      "Epoch [10/10], Loss: 0.0000\n"
     ]
    }
   ],
   "source": [
    "# Train the SmallNet to learn the mean function\n",
    "device = torch.device(\"cuda\" if torch.cuda.is_available() else \"cpu\")\n",
    "model = SmallNet().to(device)\n",
    "criterion = nn.MSELoss()\n",
    "optimizer = optim.Adam(model.parameters(), lr=0.001)\n",
    "\n",
    "# Training loop\n",
    "epochs = 10\n",
    "for epoch in range(epochs):\n",
    "    model.train()\n",
    "    running_loss = 0.0\n",
    "    for x_batch, y_batch in train_loader:\n",
    "        x_batch, y_batch = x_batch.to(device), y_batch.to(device)\n",
    "\n",
    "        # Forward pass\n",
    "        outputs = model(x_batch)\n",
    "        loss = criterion(outputs, y_batch)\n",
    "\n",
    "        # Backward pass and optimization\n",
    "        optimizer.zero_grad()\n",
    "        loss.backward()\n",
    "        optimizer.step()\n",
    "\n",
    "        running_loss += loss.item()\n",
    "\n",
    "    print(f\"Epoch [{epoch+1}/{epochs}], Loss: {running_loss / len(train_loader):.4f}\")\n"
   ]
  },
  {
   "cell_type": "code",
   "execution_count": 5,
   "id": "daef4f16-0073-4ef3-97c2-e756e3929468",
   "metadata": {},
   "outputs": [
    {
     "name": "stdout",
     "output_type": "stream",
     "text": [
      "Test Loss: 0.0000\n"
     ]
    }
   ],
   "source": [
    "# Evaluate the trained model\n",
    "model.eval()\n",
    "with torch.no_grad():\n",
    "    test_loss = 0.0\n",
    "    for x_batch, y_batch in test_loader:\n",
    "        x_batch, y_batch = x_batch.to(device), y_batch.to(device)\n",
    "\n",
    "        outputs = model(x_batch)\n",
    "        loss = criterion(outputs, y_batch)\n",
    "        test_loss += loss.item()\n",
    "\n",
    "print(f\"Test Loss: {test_loss / len(test_loader):.4f}\")\n"
   ]
  },
  {
   "cell_type": "code",
   "execution_count": 6,
   "id": "fbc6dccc-ec46-4721-aed8-c1a776341dbc",
   "metadata": {},
   "outputs": [],
   "source": [
    "# Test the original model\n",
    "model.eval()\n",
    "with torch.no_grad():\n",
    "    original_outputs = []\n",
    "    for x_batch, _ in test_loader:\n",
    "        x_batch = x_batch.to(device)\n",
    "        original_outputs.append(model(x_batch))\n",
    "\n",
    "# Concatenate original outputs for comparison\n",
    "original_outputs = torch.cat(original_outputs, dim=0)\n"
   ]
  },
  {
   "cell_type": "code",
   "execution_count": 7,
   "id": "4ecb8ab0-486d-45fb-a913-790436f60287",
   "metadata": {},
   "outputs": [
    {
     "name": "stdout",
     "output_type": "stream",
     "text": [
      "Quantizing layer: fc1\n",
      "Estimating Hessian diagonal for layer with shape (20, 2)...\n",
      "Hessian diagonal estimated.\n",
      "Starting GPTQ quantization for layer with shape (20, 2)...\n",
      "(20, 2)\n",
      "(20, 2) (40, 40)\n"
     ]
    },
    {
     "ename": "ValueError",
     "evalue": "operands could not be broadcast together with shapes (2,) (40,) (2,) ",
     "output_type": "error",
     "traceback": [
      "\u001b[0;31m---------------------------------------------------------------------------\u001b[0m",
      "\u001b[0;31mValueError\u001b[0m                                Traceback (most recent call last)",
      "Cell \u001b[0;32mIn[7], line 9\u001b[0m\n\u001b[1;32m      6\u001b[0m dummy_input \u001b[38;5;241m=\u001b[39m torch\u001b[38;5;241m.\u001b[39mrandn(\u001b[38;5;241m100\u001b[39m, \u001b[38;5;241m2\u001b[39m)  \u001b[38;5;66;03m# 100 samples, 10 features\u001b[39;00m\n\u001b[1;32m      8\u001b[0m \u001b[38;5;66;03m# Quantize all layers in the model\u001b[39;00m\n\u001b[0;32m----> 9\u001b[0m \u001b[43mquantize_model_with_propagation\u001b[49m\u001b[43m(\u001b[49m\u001b[43mmodel\u001b[49m\u001b[43m,\u001b[49m\u001b[43m \u001b[49m\u001b[43mdummy_input\u001b[49m\u001b[43m,\u001b[49m\u001b[43m \u001b[49m\u001b[43mbits\u001b[49m\u001b[38;5;241;43m=\u001b[39;49m\u001b[38;5;241;43m4\u001b[39;49m\u001b[43m)\u001b[49m\n",
      "Cell \u001b[0;32mIn[2], line 33\u001b[0m, in \u001b[0;36mquantize_model_with_propagation\u001b[0;34m(model, input_data, bits)\u001b[0m\n\u001b[1;32m     31\u001b[0m \u001b[38;5;66;03m# Add activations (layer-specific inputs) for Hessian calculation\u001b[39;00m\n\u001b[1;32m     32\u001b[0m gptq\u001b[38;5;241m.\u001b[39madd_batch(activations\u001b[38;5;241m.\u001b[39mdetach()\u001b[38;5;241m.\u001b[39mcpu()\u001b[38;5;241m.\u001b[39mnumpy())\n\u001b[0;32m---> 33\u001b[0m \u001b[43mgptq\u001b[49m\u001b[38;5;241;43m.\u001b[39;49m\u001b[43mquantize\u001b[49m\u001b[43m(\u001b[49m\u001b[43m)\u001b[49m  \u001b[38;5;66;03m# Perform GPTQ-based quantization\u001b[39;00m\n\u001b[1;32m     35\u001b[0m \u001b[38;5;66;03m# Replace the original weights with quantized weights\u001b[39;00m\n\u001b[1;32m     36\u001b[0m layer\u001b[38;5;241m.\u001b[39mweight\u001b[38;5;241m.\u001b[39mdata \u001b[38;5;241m=\u001b[39m torch\u001b[38;5;241m.\u001b[39mtensor(gptq\u001b[38;5;241m.\u001b[39mget_quantized_weights(), dtype\u001b[38;5;241m=\u001b[39mlayer\u001b[38;5;241m.\u001b[39mweight\u001b[38;5;241m.\u001b[39mdtype)\n",
      "File \u001b[0;32m~/Documents/DSC180A/GPTQ_toy/gptq.py:132\u001b[0m, in \u001b[0;36mGPTQ.quantize\u001b[0;34m(self)\u001b[0m\n\u001b[1;32m    129\u001b[0m         \u001b[38;5;28;01mif\u001b[39;00m inverse_hessian\u001b[38;5;241m.\u001b[39mshape[\u001b[38;5;241m0\u001b[39m] \u001b[38;5;241m>\u001b[39m j:  \u001b[38;5;66;03m# Ensure no out-of-bounds access\u001b[39;00m\n\u001b[1;32m    131\u001b[0m             \u001b[38;5;28mprint\u001b[39m(errors\u001b[38;5;241m.\u001b[39mshape, inverse_hessian\u001b[38;5;241m.\u001b[39mshape)\n\u001b[0;32m--> 132\u001b[0m             \u001b[43merrors\u001b[49m\u001b[43m[\u001b[49m\u001b[43mi\u001b[49m\u001b[43m,\u001b[49m\u001b[43m \u001b[49m\u001b[43mj\u001b[49m\u001b[43m:\u001b[49m\u001b[43m]\u001b[49m\u001b[43m \u001b[49m\u001b[38;5;241;43m+\u001b[39;49m\u001b[38;5;241;43m=\u001b[39;49m\u001b[43m \u001b[49m\u001b[43mquantization_error\u001b[49m\u001b[43m \u001b[49m\u001b[38;5;241;43m*\u001b[39;49m\u001b[43m \u001b[49m\u001b[43minverse_hessian\u001b[49m\u001b[43m[\u001b[49m\u001b[43mj\u001b[49m\u001b[43m,\u001b[49m\u001b[43m \u001b[49m\u001b[43mj\u001b[49m\u001b[43m:\u001b[49m\u001b[43m]\u001b[49m  \u001b[38;5;66;03m# Use the correct row slice\u001b[39;00m\n\u001b[1;32m    134\u001b[0m \u001b[38;5;28mself\u001b[39m\u001b[38;5;241m.\u001b[39mquantized_weights \u001b[38;5;241m=\u001b[39m quantized_weights\n\u001b[1;32m    135\u001b[0m \u001b[38;5;28mprint\u001b[39m(\u001b[38;5;124m\"\u001b[39m\u001b[38;5;124mGPTQ quantization using Cholesky inverse completed.\u001b[39m\u001b[38;5;124m\"\u001b[39m)\n",
      "\u001b[0;31mValueError\u001b[0m: operands could not be broadcast together with shapes (2,) (40,) (2,) "
     ]
    }
   ],
   "source": [
    "# Instantiate the model\n",
    "model = SmallNet()\n",
    "model.eval()\n",
    "\n",
    "# Create dummy input data\n",
    "dummy_input = torch.randn(100, 2)  # 100 samples, 10 features\n",
    "\n",
    "# Quantize all layers in the model\n",
    "quantize_model_with_propagation(model, dummy_input, bits=4)\n"
   ]
  },
  {
   "cell_type": "code",
   "execution_count": null,
   "id": "7df7dcda-3939-4c7c-a6ac-54c957d8fc2c",
   "metadata": {},
   "outputs": [],
   "source": [
    "# Test the quantized model\n",
    "with torch.no_grad():\n",
    "    quantized_outputs = []\n",
    "    for x_batch, _ in test_loader:\n",
    "        x_batch = x_batch.to(device)\n",
    "        quantized_outputs.append(model(x_batch))\n",
    "\n",
    "# Concatenate quantized outputs for comparison\n",
    "quantized_outputs = torch.cat(quantized_outputs, dim=0)\n"
   ]
  },
  {
   "cell_type": "code",
   "execution_count": null,
   "id": "6c9a7e8c-603b-495d-a3d7-5188ad524767",
   "metadata": {},
   "outputs": [],
   "source": [
    "# Compute Mean Squared Error (MSE)\n",
    "mse = torch.mean((original_outputs - quantized_outputs) ** 2)\n",
    "print(\"Mean Squared Error (MSE) between original and quantized outputs:\", mse.item())\n"
   ]
  },
  {
   "cell_type": "code",
   "execution_count": null,
   "id": "04a48dc1-da31-4850-99bb-f0e502a9cf5a",
   "metadata": {},
   "outputs": [],
   "source": [
    "list(zip(original_outputs, quantized_outputs))"
   ]
  },
  {
   "cell_type": "code",
   "execution_count": 11,
   "id": "b83ca5ff-3d8a-4aec-9bd1-d948347012df",
   "metadata": {},
   "outputs": [
    {
     "data": {
      "text/plain": [
       "(100, 10, 1)"
      ]
     },
     "execution_count": 11,
     "metadata": {},
     "output_type": "execute_result"
    }
   ],
   "source": [
    "np.random.randn(100, 20)[:, :, None] * np.random.randn(100, 2)[:, None, :]"
   ]
  },
  {
   "cell_type": "code",
   "execution_count": null,
   "id": "a97ad1d2-b337-41d6-b7a4-a806ba755734",
   "metadata": {},
   "outputs": [],
   "source": []
  }
 ],
 "metadata": {
  "kernelspec": {
   "display_name": "Python 3 (ipykernel)",
   "language": "python",
   "name": "python3"
  },
  "language_info": {
   "codemirror_mode": {
    "name": "ipython",
    "version": 3
   },
   "file_extension": ".py",
   "mimetype": "text/x-python",
   "name": "python",
   "nbconvert_exporter": "python",
   "pygments_lexer": "ipython3",
   "version": "3.11.10"
  }
 },
 "nbformat": 4,
 "nbformat_minor": 5
}
